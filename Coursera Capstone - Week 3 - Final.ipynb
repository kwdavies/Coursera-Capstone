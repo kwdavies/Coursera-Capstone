{
 "cells": [
  {
   "cell_type": "markdown",
   "metadata": {},
   "source": [
    "# Exploring Neighbourhoods of Toronto"
   ]
  },
  {
   "cell_type": "markdown",
   "metadata": {},
   "source": [
    "## Part 1 - Scraping Wikipedia to categorize postal codes"
   ]
  },
  {
   "cell_type": "code",
   "execution_count": 76,
   "metadata": {},
   "outputs": [],
   "source": [
    "import pandas as pd"
   ]
  },
  {
   "cell_type": "markdown",
   "metadata": {},
   "source": [
    "First get the postal codes of Canada and parse with BeautifulSoup"
   ]
  },
  {
   "cell_type": "code",
   "execution_count": 77,
   "metadata": {},
   "outputs": [],
   "source": [
    "#Fetch source postal codes and feed to BeautifulSoup\n",
    "from bs4 import BeautifulSoup\n",
    "import requests\n",
    "source = requests.get('https://en.wikipedia.org/wiki/List_of_postal_codes_of_Canada:_M').text\n",
    "soup = BeautifulSoup(source, 'lxml')"
   ]
  },
  {
   "cell_type": "markdown",
   "metadata": {},
   "source": [
    "Find the postal codes table and use the <td> tag to build a Pandas dataframe"
   ]
  },
  {
   "cell_type": "code",
   "execution_count": 78,
   "metadata": {},
   "outputs": [],
   "source": [
    "#Fetch data from BeautifulSoup and store in Pandas DataFrame\n",
    "table = soup.find('tbody')\n",
    "table_rows = table.find_all('tr')\n",
    "\n",
    "postal_codes = []\n",
    "boroughs = []\n",
    "neighbourhoods = []\n",
    "\n",
    "#Find body data\n",
    "for table_row in table_rows[1:]:\n",
    "    postal_codes.append(table_row.find_all('td')[0].text)\n",
    "    boroughs.append(table_row.find_all('td')[1].text)\n",
    "    neighbourhoods.append(table_row.find_all('td')[2].text[0:-1])\n",
    "\n",
    "postal_codes_ls = list(zip(postal_codes, boroughs, neighbourhoods))\n",
    "overall_df = pd.DataFrame(postal_codes_ls, columns = ['PostalCodes', 'Boroughs', 'Neighbourhoods'])\n",
    "\n"
   ]
  },
  {
   "cell_type": "markdown",
   "metadata": {},
   "source": [
    "Remove any postal codes not assigned to any borough"
   ]
  },
  {
   "cell_type": "code",
   "execution_count": 152,
   "metadata": {},
   "outputs": [
    {
     "data": {
      "text/html": [
       "<div>\n",
       "<style scoped>\n",
       "    .dataframe tbody tr th:only-of-type {\n",
       "        vertical-align: middle;\n",
       "    }\n",
       "\n",
       "    .dataframe tbody tr th {\n",
       "        vertical-align: top;\n",
       "    }\n",
       "\n",
       "    .dataframe thead th {\n",
       "        text-align: right;\n",
       "    }\n",
       "</style>\n",
       "<table border=\"1\" class=\"dataframe\">\n",
       "  <thead>\n",
       "    <tr style=\"text-align: right;\">\n",
       "      <th></th>\n",
       "      <th>PostalCodes</th>\n",
       "      <th>Boroughs</th>\n",
       "      <th>Neighbourhoods</th>\n",
       "    </tr>\n",
       "  </thead>\n",
       "  <tbody>\n",
       "    <tr>\n",
       "      <th>2</th>\n",
       "      <td>M3A</td>\n",
       "      <td>North York</td>\n",
       "      <td>Parkwoods</td>\n",
       "    </tr>\n",
       "    <tr>\n",
       "      <th>3</th>\n",
       "      <td>M4A</td>\n",
       "      <td>North York</td>\n",
       "      <td>Victoria Village</td>\n",
       "    </tr>\n",
       "    <tr>\n",
       "      <th>4</th>\n",
       "      <td>M5A</td>\n",
       "      <td>Downtown Toronto</td>\n",
       "      <td>Harbourfront</td>\n",
       "    </tr>\n",
       "    <tr>\n",
       "      <th>5</th>\n",
       "      <td>M6A</td>\n",
       "      <td>North York</td>\n",
       "      <td>Lawrence Heights</td>\n",
       "    </tr>\n",
       "    <tr>\n",
       "      <th>6</th>\n",
       "      <td>M6A</td>\n",
       "      <td>North York</td>\n",
       "      <td>Lawrence Manor</td>\n",
       "    </tr>\n",
       "    <tr>\n",
       "      <th>...</th>\n",
       "      <td>...</td>\n",
       "      <td>...</td>\n",
       "      <td>...</td>\n",
       "    </tr>\n",
       "    <tr>\n",
       "      <th>281</th>\n",
       "      <td>M8Z</td>\n",
       "      <td>Etobicoke</td>\n",
       "      <td>Kingsway Park South West</td>\n",
       "    </tr>\n",
       "    <tr>\n",
       "      <th>282</th>\n",
       "      <td>M8Z</td>\n",
       "      <td>Etobicoke</td>\n",
       "      <td>Mimico NW</td>\n",
       "    </tr>\n",
       "    <tr>\n",
       "      <th>283</th>\n",
       "      <td>M8Z</td>\n",
       "      <td>Etobicoke</td>\n",
       "      <td>The Queensway West</td>\n",
       "    </tr>\n",
       "    <tr>\n",
       "      <th>284</th>\n",
       "      <td>M8Z</td>\n",
       "      <td>Etobicoke</td>\n",
       "      <td>Royal York South West</td>\n",
       "    </tr>\n",
       "    <tr>\n",
       "      <th>285</th>\n",
       "      <td>M8Z</td>\n",
       "      <td>Etobicoke</td>\n",
       "      <td>South of Bloor</td>\n",
       "    </tr>\n",
       "  </tbody>\n",
       "</table>\n",
       "<p>210 rows × 3 columns</p>\n",
       "</div>"
      ],
      "text/plain": [
       "    PostalCodes          Boroughs            Neighbourhoods\n",
       "2           M3A        North York                 Parkwoods\n",
       "3           M4A        North York          Victoria Village\n",
       "4           M5A  Downtown Toronto              Harbourfront\n",
       "5           M6A        North York          Lawrence Heights\n",
       "6           M6A        North York            Lawrence Manor\n",
       "..          ...               ...                       ...\n",
       "281         M8Z         Etobicoke  Kingsway Park South West\n",
       "282         M8Z         Etobicoke                 Mimico NW\n",
       "283         M8Z         Etobicoke        The Queensway West\n",
       "284         M8Z         Etobicoke     Royal York South West\n",
       "285         M8Z         Etobicoke            South of Bloor\n",
       "\n",
       "[210 rows x 3 columns]"
      ]
     },
     "execution_count": 152,
     "metadata": {},
     "output_type": "execute_result"
    }
   ],
   "source": [
    "#Drop Non-Assigned Postal Codes\n",
    "overall_df = overall_df.query(\"Boroughs != 'Not assigned'\")\n",
    "overall_df"
   ]
  },
  {
   "cell_type": "markdown",
   "metadata": {},
   "source": [
    "Merge postal codes assigned to multiple neighbourhoods by filtering on unique postal codes"
   ]
  },
  {
   "cell_type": "code",
   "execution_count": 149,
   "metadata": {},
   "outputs": [],
   "source": [
    "unique_postal_codes = overall_df['PostalCodes'].unique()\n",
    "unique_boroughs = overall_df['Boroughs'].unique()\n",
    "unique_neighbourhoods = overall_df['Neighbourhoods'].unique()\n",
    "\n",
    "boroughs = []\n",
    "neighbourhoods = []\n",
    "\n",
    "#Define boroughs to correspond to unique postal codes\n",
    "for unique_postal_code in unique_postal_codes:\n",
    "    target_boroughs = overall_df[overall_df.PostalCodes == unique_postal_code]['Boroughs'].unique()    \n",
    "    boroughs.append(', '.join(target_boroughs))\n",
    "    #print(f\"Target Boroughs: {', '.join(target_boroughs)}\")\n",
    "    #print(target_boroughs)\n",
    "\n",
    "#Define neighbourhoods to correspond to unique postal codes\n",
    "for unique_postal_code in unique_postal_codes:\n",
    "    target_neighbourhoods = overall_df[overall_df.PostalCodes == unique_postal_code]['Neighbourhoods'].unique()    \n",
    "    neighbourhoods.append(', '.join(target_neighbourhoods))\n",
    "    #print(target_neighbourhoods)\n",
    "    \n",
    "temp_ls = list(zip(unique_postal_codes, boroughs, neighbourhoods))\n",
    "final_df = pd.DataFrame(temp_ls, columns = ['PostalCodes', 'Boroughs', 'Neighbourhoods'])\n"
   ]
  },
  {
   "cell_type": "markdown",
   "metadata": {},
   "source": [
    "Confirm the structure and data of the Pandas dataframe"
   ]
  },
  {
   "cell_type": "code",
   "execution_count": 153,
   "metadata": {},
   "outputs": [
    {
     "data": {
      "text/html": [
       "<div>\n",
       "<style scoped>\n",
       "    .dataframe tbody tr th:only-of-type {\n",
       "        vertical-align: middle;\n",
       "    }\n",
       "\n",
       "    .dataframe tbody tr th {\n",
       "        vertical-align: top;\n",
       "    }\n",
       "\n",
       "    .dataframe thead th {\n",
       "        text-align: right;\n",
       "    }\n",
       "</style>\n",
       "<table border=\"1\" class=\"dataframe\">\n",
       "  <thead>\n",
       "    <tr style=\"text-align: right;\">\n",
       "      <th></th>\n",
       "      <th>PostalCodes</th>\n",
       "      <th>Boroughs</th>\n",
       "      <th>Neighbourhoods</th>\n",
       "    </tr>\n",
       "  </thead>\n",
       "  <tbody>\n",
       "    <tr>\n",
       "      <th>0</th>\n",
       "      <td>M3A</td>\n",
       "      <td>North York</td>\n",
       "      <td>Parkwoods</td>\n",
       "    </tr>\n",
       "    <tr>\n",
       "      <th>1</th>\n",
       "      <td>M4A</td>\n",
       "      <td>North York</td>\n",
       "      <td>Victoria Village</td>\n",
       "    </tr>\n",
       "    <tr>\n",
       "      <th>2</th>\n",
       "      <td>M5A</td>\n",
       "      <td>Downtown Toronto</td>\n",
       "      <td>Harbourfront</td>\n",
       "    </tr>\n",
       "    <tr>\n",
       "      <th>3</th>\n",
       "      <td>M6A</td>\n",
       "      <td>North York</td>\n",
       "      <td>Lawrence Heights, Lawrence Manor</td>\n",
       "    </tr>\n",
       "    <tr>\n",
       "      <th>4</th>\n",
       "      <td>M7A</td>\n",
       "      <td>Downtown Toronto</td>\n",
       "      <td>Queen's Park</td>\n",
       "    </tr>\n",
       "    <tr>\n",
       "      <th>...</th>\n",
       "      <td>...</td>\n",
       "      <td>...</td>\n",
       "      <td>...</td>\n",
       "    </tr>\n",
       "    <tr>\n",
       "      <th>98</th>\n",
       "      <td>M8X</td>\n",
       "      <td>Etobicoke</td>\n",
       "      <td>The Kingsway, Montgomery Road, Old Mill North</td>\n",
       "    </tr>\n",
       "    <tr>\n",
       "      <th>99</th>\n",
       "      <td>M4Y</td>\n",
       "      <td>Downtown Toronto</td>\n",
       "      <td>Church and Wellesley</td>\n",
       "    </tr>\n",
       "    <tr>\n",
       "      <th>100</th>\n",
       "      <td>M7Y</td>\n",
       "      <td>East Toronto</td>\n",
       "      <td>Business Reply Mail Processing Centre 969 Eastern</td>\n",
       "    </tr>\n",
       "    <tr>\n",
       "      <th>101</th>\n",
       "      <td>M8Y</td>\n",
       "      <td>Etobicoke</td>\n",
       "      <td>Humber Bay, King's Mill Park, Kingsway Park So...</td>\n",
       "    </tr>\n",
       "    <tr>\n",
       "      <th>102</th>\n",
       "      <td>M8Z</td>\n",
       "      <td>Etobicoke</td>\n",
       "      <td>Kingsway Park South West, Mimico NW, The Queen...</td>\n",
       "    </tr>\n",
       "  </tbody>\n",
       "</table>\n",
       "<p>103 rows × 3 columns</p>\n",
       "</div>"
      ],
      "text/plain": [
       "    PostalCodes          Boroughs  \\\n",
       "0           M3A        North York   \n",
       "1           M4A        North York   \n",
       "2           M5A  Downtown Toronto   \n",
       "3           M6A        North York   \n",
       "4           M7A  Downtown Toronto   \n",
       "..          ...               ...   \n",
       "98          M8X         Etobicoke   \n",
       "99          M4Y  Downtown Toronto   \n",
       "100         M7Y      East Toronto   \n",
       "101         M8Y         Etobicoke   \n",
       "102         M8Z         Etobicoke   \n",
       "\n",
       "                                        Neighbourhoods  \n",
       "0                                            Parkwoods  \n",
       "1                                     Victoria Village  \n",
       "2                                         Harbourfront  \n",
       "3                     Lawrence Heights, Lawrence Manor  \n",
       "4                                         Queen's Park  \n",
       "..                                                 ...  \n",
       "98       The Kingsway, Montgomery Road, Old Mill North  \n",
       "99                                Church and Wellesley  \n",
       "100  Business Reply Mail Processing Centre 969 Eastern  \n",
       "101  Humber Bay, King's Mill Park, Kingsway Park So...  \n",
       "102  Kingsway Park South West, Mimico NW, The Queen...  \n",
       "\n",
       "[103 rows x 3 columns]"
      ]
     },
     "execution_count": 153,
     "metadata": {},
     "output_type": "execute_result"
    }
   ],
   "source": [
    "final_df"
   ]
  },
  {
   "cell_type": "markdown",
   "metadata": {},
   "source": [
    "Get the shape of the Pandas data frame"
   ]
  },
  {
   "cell_type": "code",
   "execution_count": 127,
   "metadata": {},
   "outputs": [
    {
     "data": {
      "text/plain": [
       "(103, 3)"
      ]
     },
     "execution_count": 127,
     "metadata": {},
     "output_type": "execute_result"
    }
   ],
   "source": [
    "#Get the final shape of the postal codes data frame\n",
    "final_df.shape\n"
   ]
  },
  {
   "cell_type": "markdown",
   "metadata": {},
   "source": [
    "## Part 2 - Add Latitude and Longitude Data"
   ]
  },
  {
   "cell_type": "markdown",
   "metadata": {},
   "source": [
    "Import latitude and longitude from separate CSV file"
   ]
  },
  {
   "cell_type": "code",
   "execution_count": 154,
   "metadata": {},
   "outputs": [
    {
     "data": {
      "text/html": [
       "<div>\n",
       "<style scoped>\n",
       "    .dataframe tbody tr th:only-of-type {\n",
       "        vertical-align: middle;\n",
       "    }\n",
       "\n",
       "    .dataframe tbody tr th {\n",
       "        vertical-align: top;\n",
       "    }\n",
       "\n",
       "    .dataframe thead th {\n",
       "        text-align: right;\n",
       "    }\n",
       "</style>\n",
       "<table border=\"1\" class=\"dataframe\">\n",
       "  <thead>\n",
       "    <tr style=\"text-align: right;\">\n",
       "      <th></th>\n",
       "      <th>Postal Code</th>\n",
       "      <th>Latitude</th>\n",
       "      <th>Longitude</th>\n",
       "    </tr>\n",
       "  </thead>\n",
       "  <tbody>\n",
       "    <tr>\n",
       "      <th>0</th>\n",
       "      <td>M1B</td>\n",
       "      <td>43.806686</td>\n",
       "      <td>-79.194353</td>\n",
       "    </tr>\n",
       "    <tr>\n",
       "      <th>1</th>\n",
       "      <td>M1C</td>\n",
       "      <td>43.784535</td>\n",
       "      <td>-79.160497</td>\n",
       "    </tr>\n",
       "    <tr>\n",
       "      <th>2</th>\n",
       "      <td>M1E</td>\n",
       "      <td>43.763573</td>\n",
       "      <td>-79.188711</td>\n",
       "    </tr>\n",
       "    <tr>\n",
       "      <th>3</th>\n",
       "      <td>M1G</td>\n",
       "      <td>43.770992</td>\n",
       "      <td>-79.216917</td>\n",
       "    </tr>\n",
       "    <tr>\n",
       "      <th>4</th>\n",
       "      <td>M1H</td>\n",
       "      <td>43.773136</td>\n",
       "      <td>-79.239476</td>\n",
       "    </tr>\n",
       "  </tbody>\n",
       "</table>\n",
       "</div>"
      ],
      "text/plain": [
       "  Postal Code   Latitude  Longitude\n",
       "0         M1B  43.806686 -79.194353\n",
       "1         M1C  43.784535 -79.160497\n",
       "2         M1E  43.763573 -79.188711\n",
       "3         M1G  43.770992 -79.216917\n",
       "4         M1H  43.773136 -79.239476"
      ]
     },
     "execution_count": 154,
     "metadata": {},
     "output_type": "execute_result"
    }
   ],
   "source": [
    "lat_long_df = pd.read_csv('https://cocl.us/Geospatial_data')\n",
    "lat_long_df.head()"
   ]
  },
  {
   "cell_type": "markdown",
   "metadata": {},
   "source": [
    "Perform an inner join on the two data frames, using postal code as key"
   ]
  },
  {
   "cell_type": "code",
   "execution_count": 161,
   "metadata": {},
   "outputs": [],
   "source": [
    "merged_df = pd.merge(left = final_df, right = lat_long_df, left_on = 'PostalCodes', right_on = 'Postal Code')\n",
    "merged_df = merged_df.drop('Postal Code', axis=1)"
   ]
  },
  {
   "cell_type": "markdown",
   "metadata": {},
   "source": [
    "Confirm shape and look of the final data frame"
   ]
  },
  {
   "cell_type": "code",
   "execution_count": 162,
   "metadata": {},
   "outputs": [
    {
     "name": "stdout",
     "output_type": "stream",
     "text": [
      "Shape: (103, 5)\n"
     ]
    },
    {
     "data": {
      "text/html": [
       "<div>\n",
       "<style scoped>\n",
       "    .dataframe tbody tr th:only-of-type {\n",
       "        vertical-align: middle;\n",
       "    }\n",
       "\n",
       "    .dataframe tbody tr th {\n",
       "        vertical-align: top;\n",
       "    }\n",
       "\n",
       "    .dataframe thead th {\n",
       "        text-align: right;\n",
       "    }\n",
       "</style>\n",
       "<table border=\"1\" class=\"dataframe\">\n",
       "  <thead>\n",
       "    <tr style=\"text-align: right;\">\n",
       "      <th></th>\n",
       "      <th>PostalCodes</th>\n",
       "      <th>Boroughs</th>\n",
       "      <th>Neighbourhoods</th>\n",
       "      <th>Latitude</th>\n",
       "      <th>Longitude</th>\n",
       "    </tr>\n",
       "  </thead>\n",
       "  <tbody>\n",
       "    <tr>\n",
       "      <th>0</th>\n",
       "      <td>M3A</td>\n",
       "      <td>North York</td>\n",
       "      <td>Parkwoods</td>\n",
       "      <td>43.753259</td>\n",
       "      <td>-79.329656</td>\n",
       "    </tr>\n",
       "    <tr>\n",
       "      <th>1</th>\n",
       "      <td>M4A</td>\n",
       "      <td>North York</td>\n",
       "      <td>Victoria Village</td>\n",
       "      <td>43.725882</td>\n",
       "      <td>-79.315572</td>\n",
       "    </tr>\n",
       "    <tr>\n",
       "      <th>2</th>\n",
       "      <td>M5A</td>\n",
       "      <td>Downtown Toronto</td>\n",
       "      <td>Harbourfront</td>\n",
       "      <td>43.654260</td>\n",
       "      <td>-79.360636</td>\n",
       "    </tr>\n",
       "    <tr>\n",
       "      <th>3</th>\n",
       "      <td>M6A</td>\n",
       "      <td>North York</td>\n",
       "      <td>Lawrence Heights, Lawrence Manor</td>\n",
       "      <td>43.718518</td>\n",
       "      <td>-79.464763</td>\n",
       "    </tr>\n",
       "    <tr>\n",
       "      <th>4</th>\n",
       "      <td>M7A</td>\n",
       "      <td>Downtown Toronto</td>\n",
       "      <td>Queen's Park</td>\n",
       "      <td>43.662301</td>\n",
       "      <td>-79.389494</td>\n",
       "    </tr>\n",
       "  </tbody>\n",
       "</table>\n",
       "</div>"
      ],
      "text/plain": [
       "  PostalCodes          Boroughs                    Neighbourhoods   Latitude  \\\n",
       "0         M3A        North York                         Parkwoods  43.753259   \n",
       "1         M4A        North York                  Victoria Village  43.725882   \n",
       "2         M5A  Downtown Toronto                      Harbourfront  43.654260   \n",
       "3         M6A        North York  Lawrence Heights, Lawrence Manor  43.718518   \n",
       "4         M7A  Downtown Toronto                      Queen's Park  43.662301   \n",
       "\n",
       "   Longitude  \n",
       "0 -79.329656  \n",
       "1 -79.315572  \n",
       "2 -79.360636  \n",
       "3 -79.464763  \n",
       "4 -79.389494  "
      ]
     },
     "execution_count": 162,
     "metadata": {},
     "output_type": "execute_result"
    }
   ],
   "source": [
    "print(f\"Shape: {merged_df.shape}\")\n",
    "merged_df.head()"
   ]
  },
  {
   "cell_type": "markdown",
   "metadata": {},
   "source": [
    "## Part 3 - Explore neighbourhoods of Toronto with FourSquare API"
   ]
  },
  {
   "cell_type": "code",
   "execution_count": 163,
   "metadata": {},
   "outputs": [
    {
     "name": "stdout",
     "output_type": "stream",
     "text": [
      "Collecting package metadata (current_repodata.json): done\n",
      "Solving environment: done\n",
      "\n",
      "## Package Plan ##\n",
      "\n",
      "  environment location: /Users/keithdavies/opt/anaconda3\n",
      "\n",
      "  added / updated specs:\n",
      "    - geopy\n",
      "\n",
      "\n",
      "The following packages will be downloaded:\n",
      "\n",
      "    package                    |            build\n",
      "    ---------------------------|-----------------\n",
      "    certifi-2019.11.28         |           py37_0         148 KB  conda-forge\n",
      "    conda-4.8.3                |   py37hc8dfbb8_0         3.0 MB  conda-forge\n",
      "    geographiclib-1.50         |             py_0          34 KB  conda-forge\n",
      "    geopy-1.21.0               |             py_0          58 KB  conda-forge\n",
      "    python_abi-3.7             |          1_cp37m           4 KB  conda-forge\n",
      "    ------------------------------------------------------------\n",
      "                                           Total:         3.3 MB\n",
      "\n",
      "The following NEW packages will be INSTALLED:\n",
      "\n",
      "  geographiclib      conda-forge/noarch::geographiclib-1.50-py_0\n",
      "  geopy              conda-forge/noarch::geopy-1.21.0-py_0\n",
      "  python_abi         conda-forge/osx-64::python_abi-3.7-1_cp37m\n",
      "\n",
      "The following packages will be UPDATED:\n",
      "\n",
      "  conda                       pkgs/main::conda-4.8.2-py37_0 --> conda-forge::conda-4.8.3-py37hc8dfbb8_0\n",
      "\n",
      "The following packages will be SUPERSEDED by a higher-priority channel:\n",
      "\n",
      "  certifi                                         pkgs/main --> conda-forge\n",
      "\n",
      "\n",
      "\n",
      "Downloading and Extracting Packages\n",
      "geographiclib-1.50   | 34 KB     | ##################################### | 100% \n",
      "conda-4.8.3          | 3.0 MB    | ##################################### | 100% \n",
      "python_abi-3.7       | 4 KB      | ##################################### | 100% \n",
      "geopy-1.21.0         | 58 KB     | ##################################### | 100% \n",
      "certifi-2019.11.28   | 148 KB    | ##################################### | 100% \n",
      "Preparing transaction: done\n",
      "Verifying transaction: done\n",
      "Executing transaction: done\n",
      "Collecting package metadata (current_repodata.json): done\n",
      "Solving environment: failed with initial frozen solve. Retrying with flexible solve.\n",
      "Collecting package metadata (repodata.json): done\n",
      "Solving environment: done\n",
      "\n",
      "## Package Plan ##\n",
      "\n",
      "  environment location: /Users/keithdavies/opt/anaconda3\n",
      "\n",
      "  added / updated specs:\n",
      "    - folium=0.5.0\n",
      "\n",
      "\n",
      "The following packages will be downloaded:\n",
      "\n",
      "    package                    |            build\n",
      "    ---------------------------|-----------------\n",
      "    altair-4.0.1               |             py_0         575 KB  conda-forge\n",
      "    branca-0.4.0               |             py_0          26 KB  conda-forge\n",
      "    folium-0.5.0               |             py_0          45 KB  conda-forge\n",
      "    vincent-0.4.4              |             py_1          28 KB  conda-forge\n",
      "    ------------------------------------------------------------\n",
      "                                           Total:         673 KB\n",
      "\n",
      "The following NEW packages will be INSTALLED:\n",
      "\n",
      "  altair             conda-forge/noarch::altair-4.0.1-py_0\n",
      "  branca             conda-forge/noarch::branca-0.4.0-py_0\n",
      "  folium             conda-forge/noarch::folium-0.5.0-py_0\n",
      "  vincent            conda-forge/noarch::vincent-0.4.4-py_1\n",
      "\n",
      "\n",
      "\n",
      "Downloading and Extracting Packages\n",
      "branca-0.4.0         | 26 KB     | ##################################### | 100% \n",
      "altair-4.0.1         | 575 KB    | ##################################### | 100% \n",
      "vincent-0.4.4        | 28 KB     | ##################################### | 100% \n",
      "folium-0.5.0         | 45 KB     | ##################################### | 100% \n",
      "Preparing transaction: done\n",
      "Verifying transaction: done\n",
      "Executing transaction: done\n",
      "Folium installed\n",
      "Libraries imported.\n"
     ]
    }
   ],
   "source": [
    "import requests # library to handle requests\n",
    "import pandas as pd # library for data analsysis\n",
    "import numpy as np # library to handle data in a vectorized manner\n",
    "import random # library for random number generation\n",
    " \n",
    "!conda install -c conda-forge geopy --yes\n",
    "from geopy.geocoders import Nominatim # module to convert an address into latitude and longitude values\n",
    " \n",
    "# libraries for displaying images\n",
    "from IPython.display import Image\n",
    "from IPython.core.display import HTML\n",
    "    \n",
    "# tranforming json file into a pandas dataframe library\n",
    "from pandas import json_normalize\n",
    " \n",
    "!conda install -c conda-forge folium=0.5.0 --yes\n",
    "import folium # plotting library\n",
    " \n",
    "print('Folium installed')\n",
    "print('Libraries imported.')"
   ]
  },
  {
   "cell_type": "code",
   "execution_count": 164,
   "metadata": {},
   "outputs": [],
   "source": [
    "#Establish constants we will use for the FourSquare API\n",
    "CLIENT_ID = 'GYLX2FKS50CNPV3PDRHAUGMY4P3GOKKEKBB5KW4FFJERCXRG' # Foursquare ID\n",
    "CLIENT_SECRET = 'IU4AQLTCE3CIBP2Z2IOIXZU4LDZGJCGC0PXQIUOAZYXEMOWU' # Foursquare Secret\n",
    "VERSION = '20180604'\n",
    "LIMIT = 30"
   ]
  },
  {
   "cell_type": "code",
   "execution_count": 166,
   "metadata": {},
   "outputs": [
    {
     "name": "stdout",
     "output_type": "stream",
     "text": [
      "43.67045871714286 -79.30512166285715\n"
     ]
    }
   ],
   "source": [
    "#Explore an address in Toronto, getting latitiude and logitude\n",
    "#Recall that the geocoding API sometimes times out.  In these cases, just need to re-run.\n",
    "address = '33 Herbert Ave, Toronto, ON'\n",
    " \n",
    "geolocator = Nominatim(user_agent=\"foursquare_agent\")\n",
    "location = geolocator.geocode(address)\n",
    "latitude = location.latitude\n",
    "longitude = location.longitude\n",
    "print(latitude, longitude)"
   ]
  },
  {
   "cell_type": "code",
   "execution_count": 170,
   "metadata": {},
   "outputs": [
    {
     "data": {
      "text/html": [
       "<div>\n",
       "<style scoped>\n",
       "    .dataframe tbody tr th:only-of-type {\n",
       "        vertical-align: middle;\n",
       "    }\n",
       "\n",
       "    .dataframe tbody tr th {\n",
       "        vertical-align: top;\n",
       "    }\n",
       "\n",
       "    .dataframe thead th {\n",
       "        text-align: right;\n",
       "    }\n",
       "</style>\n",
       "<table border=\"1\" class=\"dataframe\">\n",
       "  <thead>\n",
       "    <tr style=\"text-align: right;\">\n",
       "      <th></th>\n",
       "      <th>id</th>\n",
       "      <th>name</th>\n",
       "      <th>categories</th>\n",
       "      <th>referralId</th>\n",
       "      <th>hasPerk</th>\n",
       "      <th>location.address</th>\n",
       "      <th>location.crossStreet</th>\n",
       "      <th>location.lat</th>\n",
       "      <th>location.lng</th>\n",
       "      <th>location.labeledLatLngs</th>\n",
       "      <th>location.distance</th>\n",
       "      <th>location.postalCode</th>\n",
       "      <th>location.cc</th>\n",
       "      <th>location.city</th>\n",
       "      <th>location.state</th>\n",
       "      <th>location.country</th>\n",
       "      <th>location.formattedAddress</th>\n",
       "      <th>location.neighborhood</th>\n",
       "    </tr>\n",
       "  </thead>\n",
       "  <tbody>\n",
       "    <tr>\n",
       "      <th>0</th>\n",
       "      <td>4c599c4db05c1b8dde2ad6b1</td>\n",
       "      <td>Coffee Time</td>\n",
       "      <td>[{'id': '4bf58dd8d48988d16d941735', 'name': 'C...</td>\n",
       "      <td>v-1584439552</td>\n",
       "      <td>False</td>\n",
       "      <td>205 Woodbine ave</td>\n",
       "      <td>Queen and woodbine</td>\n",
       "      <td>43.668998</td>\n",
       "      <td>-79.305699</td>\n",
       "      <td>[{'label': 'display', 'lat': 43.668998, 'lng':...</td>\n",
       "      <td>169</td>\n",
       "      <td>M4L</td>\n",
       "      <td>CA</td>\n",
       "      <td>Toronto</td>\n",
       "      <td>ON</td>\n",
       "      <td>Canada</td>\n",
       "      <td>[205 Woodbine ave (Queen and woodbine), Toront...</td>\n",
       "      <td>NaN</td>\n",
       "    </tr>\n",
       "    <tr>\n",
       "      <th>1</th>\n",
       "      <td>53ffb4ff498e0a4a7c6c65c7</td>\n",
       "      <td>Buds Coffee Bar</td>\n",
       "      <td>[{'id': '4bf58dd8d48988d1e0931735', 'name': 'C...</td>\n",
       "      <td>v-1584439552</td>\n",
       "      <td>False</td>\n",
       "      <td>1934 Queen St East</td>\n",
       "      <td>NaN</td>\n",
       "      <td>43.669375</td>\n",
       "      <td>-79.303218</td>\n",
       "      <td>[{'label': 'display', 'lat': 43.66937472977883...</td>\n",
       "      <td>195</td>\n",
       "      <td>NaN</td>\n",
       "      <td>CA</td>\n",
       "      <td>Toronto</td>\n",
       "      <td>ON</td>\n",
       "      <td>Canada</td>\n",
       "      <td>[1934 Queen St East, Toronto ON, Canada]</td>\n",
       "      <td>NaN</td>\n",
       "    </tr>\n",
       "    <tr>\n",
       "      <th>2</th>\n",
       "      <td>4b2f79bef964a520a1eb24e3</td>\n",
       "      <td>Starbucks</td>\n",
       "      <td>[{'id': '4bf58dd8d48988d1e0931735', 'name': 'C...</td>\n",
       "      <td>v-1584439552</td>\n",
       "      <td>False</td>\n",
       "      <td>1960 Queen St E</td>\n",
       "      <td>Waverley Ave</td>\n",
       "      <td>43.669736</td>\n",
       "      <td>-79.302056</td>\n",
       "      <td>[{'label': 'display', 'lat': 43.669736, 'lng':...</td>\n",
       "      <td>259</td>\n",
       "      <td>M4L 1H8</td>\n",
       "      <td>CA</td>\n",
       "      <td>Toronto</td>\n",
       "      <td>ON</td>\n",
       "      <td>Canada</td>\n",
       "      <td>[1960 Queen St E (Waverley Ave), Toronto ON M4...</td>\n",
       "      <td>The Beaches</td>\n",
       "    </tr>\n",
       "  </tbody>\n",
       "</table>\n",
       "</div>"
      ],
      "text/plain": [
       "                         id             name  \\\n",
       "0  4c599c4db05c1b8dde2ad6b1      Coffee Time   \n",
       "1  53ffb4ff498e0a4a7c6c65c7  Buds Coffee Bar   \n",
       "2  4b2f79bef964a520a1eb24e3        Starbucks   \n",
       "\n",
       "                                          categories    referralId  hasPerk  \\\n",
       "0  [{'id': '4bf58dd8d48988d16d941735', 'name': 'C...  v-1584439552    False   \n",
       "1  [{'id': '4bf58dd8d48988d1e0931735', 'name': 'C...  v-1584439552    False   \n",
       "2  [{'id': '4bf58dd8d48988d1e0931735', 'name': 'C...  v-1584439552    False   \n",
       "\n",
       "     location.address location.crossStreet  location.lat  location.lng  \\\n",
       "0    205 Woodbine ave   Queen and woodbine     43.668998    -79.305699   \n",
       "1  1934 Queen St East                  NaN     43.669375    -79.303218   \n",
       "2     1960 Queen St E         Waverley Ave     43.669736    -79.302056   \n",
       "\n",
       "                             location.labeledLatLngs  location.distance  \\\n",
       "0  [{'label': 'display', 'lat': 43.668998, 'lng':...                169   \n",
       "1  [{'label': 'display', 'lat': 43.66937472977883...                195   \n",
       "2  [{'label': 'display', 'lat': 43.669736, 'lng':...                259   \n",
       "\n",
       "  location.postalCode location.cc location.city location.state  \\\n",
       "0                 M4L          CA       Toronto             ON   \n",
       "1                 NaN          CA       Toronto             ON   \n",
       "2             M4L 1H8          CA       Toronto             ON   \n",
       "\n",
       "  location.country                          location.formattedAddress  \\\n",
       "0           Canada  [205 Woodbine ave (Queen and woodbine), Toront...   \n",
       "1           Canada           [1934 Queen St East, Toronto ON, Canada]   \n",
       "2           Canada  [1960 Queen St E (Waverley Ave), Toronto ON M4...   \n",
       "\n",
       "  location.neighborhood  \n",
       "0                   NaN  \n",
       "1                   NaN  \n",
       "2           The Beaches  "
      ]
     },
     "execution_count": 170,
     "metadata": {},
     "output_type": "execute_result"
    }
   ],
   "source": [
    "#Find coffee shops near that address\n",
    "search_query = 'Coffee'\n",
    "radius = 500\n",
    "#print(search_query + ' .... OK!')\n",
    " \n",
    "url = f\"https://api.foursquare.com/v2/venues/search?client_id={CLIENT_ID}&client_secret={CLIENT_SECRET}&ll={latitude},{longitude}&v={VERSION}&query={search_query}&radius={radius}&limit={LIMIT}\"\n",
    " \n",
    "results = requests.get(url).json()\n",
    "\n",
    "# assign relevant part of JSON to venues\n",
    "venues = results['response']['venues']\n",
    " \n",
    "# tranform venues into a dataframe\n",
    "dataframe = pd.json_normalize(venues)\n",
    "dataframe.head()"
   ]
  },
  {
   "cell_type": "code",
   "execution_count": 182,
   "metadata": {},
   "outputs": [
    {
     "data": {
      "text/html": [
       "<div style=\"width:100%;\"><div style=\"position:relative;width:100%;height:0;padding-bottom:60%;\"><iframe src=\"about:blank\" style=\"position:absolute;width:100%;height:100%;left:0;top:0;border:none !important;\" data-html=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 onload=\"this.contentDocument.open();this.contentDocument.write(atob(this.getAttribute('data-html')));this.contentDocument.close();\" allowfullscreen webkitallowfullscreen mozallowfullscreen></iframe></div></div>"
      ],
      "text/plain": [
       "<folium.folium.Map at 0x11f55dd50>"
      ]
     },
     "execution_count": 182,
     "metadata": {},
     "output_type": "execute_result"
    }
   ],
   "source": [
    "beaches_map = folium.Map(location=[latitude, longitude], zoom_start=15)\n",
    "\n",
    "for i in range(0,dataframe['id'].count()):\n",
    "    coffee_shop_name = dataframe.iloc[i,1]\n",
    "    latitude = dataframe.iloc[i,7]\n",
    "    longitude = dataframe.iloc[i,8]\n",
    "    folium.features.CircleMarker(\n",
    "        [latitude, longitude],\n",
    "        radius=10,\n",
    "        popup=coffee_shop_name,\n",
    "        fill=True,\n",
    "        color='blue',\n",
    "        fill_color='blue',\n",
    "        fill_opacity=0.6\n",
    "        ).add_to(beaches_map)\n",
    " \n",
    "beaches_map"
   ]
  },
  {
   "cell_type": "markdown",
   "metadata": {},
   "source": [
    "## Part 4 - Build maps visualizing postal codes in Toronto"
   ]
  },
  {
   "cell_type": "code",
   "execution_count": null,
   "metadata": {},
   "outputs": [],
   "source": []
  },
  {
   "cell_type": "code",
   "execution_count": 184,
   "metadata": {},
   "outputs": [
    {
     "data": {
      "text/html": [
       "<div style=\"width:100%;\"><div style=\"position:relative;width:100%;height:0;padding-bottom:60%;\"><iframe src=\"about:blank\" style=\"position:absolute;width:100%;height:100%;left:0;top:0;border:none !important;\" data-html=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 onload=\"this.contentDocument.open();this.contentDocument.write(atob(this.getAttribute('data-html')));this.contentDocument.close();\" allowfullscreen webkitallowfullscreen mozallowfullscreen></iframe></div></div>"
      ],
      "text/plain": [
       "<folium.folium.Map at 0x11fa17ed0>"
      ]
     },
     "execution_count": 184,
     "metadata": {},
     "output_type": "execute_result"
    }
   ],
   "source": [
    "# generate map centred around previous address\n",
    "venues_map = folium.Map(location=[latitude, longitude], zoom_start=11)\n",
    "\n",
    "# add Postal Code Centres as Red Circles\n",
    "for i in range(0,merged_df['PostalCodes'].count()):\n",
    "    postal_code_prefix = merged_df.iloc[i,0]\n",
    "    latitude = merged_df.iloc[i,3]\n",
    "    longitude = merged_df.iloc[i,4]\n",
    "    folium.features.CircleMarker(\n",
    "        [latitude, longitude],\n",
    "        radius=10,\n",
    "        popup=postal_code_prefix,\n",
    "        fill=True,\n",
    "        color='red',\n",
    "        fill_color='red',\n",
    "        fill_opacity=0.6\n",
    "        ).add_to(venues_map)\n",
    " \n",
    "venues_map"
   ]
  },
  {
   "cell_type": "code",
   "execution_count": null,
   "metadata": {},
   "outputs": [],
   "source": []
  },
  {
   "cell_type": "code",
   "execution_count": null,
   "metadata": {},
   "outputs": [],
   "source": []
  },
  {
   "cell_type": "code",
   "execution_count": null,
   "metadata": {},
   "outputs": [],
   "source": []
  }
 ],
 "metadata": {
  "kernelspec": {
   "display_name": "Python 3",
   "language": "python",
   "name": "python3"
  },
  "language_info": {
   "codemirror_mode": {
    "name": "ipython",
    "version": 3
   },
   "file_extension": ".py",
   "mimetype": "text/x-python",
   "name": "python",
   "nbconvert_exporter": "python",
   "pygments_lexer": "ipython3",
   "version": "3.7.6"
  }
 },
 "nbformat": 4,
 "nbformat_minor": 4
}
