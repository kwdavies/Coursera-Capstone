{
 "cells": [
  {
   "cell_type": "markdown",
   "metadata": {},
   "source": [
    "# Locating a Coffee Shop in Toronto"
   ]
  },
  {
   "cell_type": "markdown",
   "metadata": {},
   "source": [
    "## Part 0 - Preparation"
   ]
  },
  {
   "cell_type": "code",
   "execution_count": 256,
   "metadata": {},
   "outputs": [],
   "source": [
    "import pandas as pd\n",
    "from bs4 import BeautifulSoup\n",
    "import requests"
   ]
  },
  {
   "cell_type": "code",
   "execution_count": 257,
   "metadata": {},
   "outputs": [
    {
     "name": "stdout",
     "output_type": "stream",
     "text": [
      "Collecting package metadata (current_repodata.json): done\n",
      "Solving environment: done\n",
      "\n",
      "# All requested packages already installed.\n",
      "\n",
      "Collecting package metadata (current_repodata.json): done\n",
      "Solving environment: done\n",
      "\n",
      "# All requested packages already installed.\n",
      "\n",
      "Folium installed\n",
      "Libraries imported.\n"
     ]
    }
   ],
   "source": [
    "import requests # library to handle requests\n",
    "import pandas as pd # library for data analsysis\n",
    "import numpy as np # library to handle data in a vectorized manner\n",
    "import random # library for random number generation\n",
    " \n",
    "!conda install -c conda-forge geopy --yes\n",
    "from geopy.geocoders import Nominatim # module to convert an address into latitude and longitude values\n",
    " \n",
    "# libraries for displaying images\n",
    "from IPython.display import Image\n",
    "from IPython.core.display import HTML\n",
    "    \n",
    "# tranforming json file into a pandas dataframe library\n",
    "from pandas import json_normalize\n",
    " \n",
    "!conda install -c conda-forge folium=0.5.0 --yes\n",
    "import folium # plotting library\n",
    " \n",
    "print('Folium installed')\n",
    "print('Libraries imported.')\n"
   ]
  },
  {
   "cell_type": "markdown",
   "metadata": {},
   "source": [
    "## Part 1 - Get Postal Code Data"
   ]
  },
  {
   "cell_type": "markdown",
   "metadata": {},
   "source": [
    "Import latitude and longitude from separate CSV file"
   ]
  },
  {
   "cell_type": "code",
   "execution_count": 260,
   "metadata": {},
   "outputs": [
    {
     "data": {
      "text/html": [
       "<div>\n",
       "<style scoped>\n",
       "    .dataframe tbody tr th:only-of-type {\n",
       "        vertical-align: middle;\n",
       "    }\n",
       "\n",
       "    .dataframe tbody tr th {\n",
       "        vertical-align: top;\n",
       "    }\n",
       "\n",
       "    .dataframe thead th {\n",
       "        text-align: right;\n",
       "    }\n",
       "</style>\n",
       "<table border=\"1\" class=\"dataframe\">\n",
       "  <thead>\n",
       "    <tr style=\"text-align: right;\">\n",
       "      <th></th>\n",
       "      <th>Postal Code</th>\n",
       "      <th>Latitude</th>\n",
       "      <th>Longitude</th>\n",
       "    </tr>\n",
       "  </thead>\n",
       "  <tbody>\n",
       "    <tr>\n",
       "      <th>0</th>\n",
       "      <td>M1B</td>\n",
       "      <td>43.806686</td>\n",
       "      <td>-79.194353</td>\n",
       "    </tr>\n",
       "    <tr>\n",
       "      <th>1</th>\n",
       "      <td>M1C</td>\n",
       "      <td>43.784535</td>\n",
       "      <td>-79.160497</td>\n",
       "    </tr>\n",
       "    <tr>\n",
       "      <th>2</th>\n",
       "      <td>M1E</td>\n",
       "      <td>43.763573</td>\n",
       "      <td>-79.188711</td>\n",
       "    </tr>\n",
       "    <tr>\n",
       "      <th>3</th>\n",
       "      <td>M1G</td>\n",
       "      <td>43.770992</td>\n",
       "      <td>-79.216917</td>\n",
       "    </tr>\n",
       "    <tr>\n",
       "      <th>4</th>\n",
       "      <td>M1H</td>\n",
       "      <td>43.773136</td>\n",
       "      <td>-79.239476</td>\n",
       "    </tr>\n",
       "  </tbody>\n",
       "</table>\n",
       "</div>"
      ],
      "text/plain": [
       "  Postal Code   Latitude  Longitude\n",
       "0         M1B  43.806686 -79.194353\n",
       "1         M1C  43.784535 -79.160497\n",
       "2         M1E  43.763573 -79.188711\n",
       "3         M1G  43.770992 -79.216917\n",
       "4         M1H  43.773136 -79.239476"
      ]
     },
     "execution_count": 260,
     "metadata": {},
     "output_type": "execute_result"
    }
   ],
   "source": [
    "lat_long_df = pd.read_csv('https://cocl.us/Geospatial_data')\n",
    "lat_long_df.head()"
   ]
  },
  {
   "cell_type": "code",
   "execution_count": 261,
   "metadata": {},
   "outputs": [
    {
     "data": {
      "text/plain": [
       "(103, 3)"
      ]
     },
     "execution_count": 261,
     "metadata": {},
     "output_type": "execute_result"
    }
   ],
   "source": [
    "lat_long_df.shape"
   ]
  },
  {
   "cell_type": "markdown",
   "metadata": {},
   "source": [
    "## Part 2 - Find Bars and Coffee Shops"
   ]
  },
  {
   "cell_type": "code",
   "execution_count": 262,
   "metadata": {},
   "outputs": [],
   "source": [
    "#Establish constants we will use for the FourSquare API\n",
    "CLIENT_ID = 'GYLX2FKS50CNPV3PDRHAUGMY4P3GOKKEKBB5KW4FFJERCXRG' # Foursquare ID\n",
    "CLIENT_SECRET = 'IU4AQLTCE3CIBP2Z2IOIXZU4LDZGJCGC0PXQIUOAZYXEMOWU' # Foursquare Secret\n",
    "VERSION = '20180604'\n",
    "LIMIT = 30"
   ]
  },
  {
   "cell_type": "code",
   "execution_count": 340,
   "metadata": {},
   "outputs": [
    {
     "name": "stdout",
     "output_type": "stream",
     "text": [
      "Now starting row: 1 of 103 = 0.970873786407767% complete.\n",
      "Now starting row: 11 of 103 = 10.679611650485437% complete.\n",
      "Now starting row: 21 of 103 = 20.388349514563107% complete.\n",
      "Now starting row: 31 of 103 = 30.097087378640776% complete.\n",
      "Now starting row: 41 of 103 = 39.80582524271845% complete.\n",
      "Now starting row: 51 of 103 = 49.51456310679612% complete.\n",
      "Now starting row: 61 of 103 = 59.22330097087379% complete.\n",
      "Now starting row: 71 of 103 = 68.93203883495146% complete.\n",
      "Now starting row: 81 of 103 = 78.64077669902913% complete.\n",
      "Now starting row: 91 of 103 = 88.3495145631068% complete.\n",
      "Now starting row: 101 of 103 = 98.05825242718447% complete.\n"
     ]
    }
   ],
   "source": [
    "#Find coffee shops near each postal code centroid and place into venues_df\n",
    "coffee_search_query = 'Coffee'\n",
    "bar_search_query = 'Bar'\n",
    "\n",
    "radius = 2000\n",
    "coffee_shops_venues = []\n",
    "coffee_shops_count = []\n",
    "bars_venues = []\n",
    "bars_count = []\n",
    "\n",
    "for i in range(0,len(lat_long_df)): \n",
    "    if i%10==0:\n",
    "        print(f\"Now starting row: {i+1} of {len(lat_long_df)} = {100*(i+1)/len(lat_long_df)}% complete.\")\n",
    "    latitude = lat_long_df.loc[i,'Latitude']\n",
    "    longitude = lat_long_df.loc[i,'Longitude']\n",
    "\n",
    "    url = f\"https://api.foursquare.com/v2/venues/search?client_id={CLIENT_ID}&client_secret={CLIENT_SECRET}&ll={latitude},{longitude}&v={VERSION}&query={coffee_search_query}&radius={radius}&limit={LIMIT}\"\n",
    "    results = requests.get(url).json()\n",
    "    coffee_shops_venues.append(results['response']['venues'])\n",
    "    coffee_shops_count.append(len(results['response']['venues']))\n",
    "\n",
    "    url = f\"https://api.foursquare.com/v2/venues/search?client_id={CLIENT_ID}&client_secret={CLIENT_SECRET}&ll={latitude},{longitude}&v={VERSION}&query={bar_search_query}&radius={radius}&limit={LIMIT}\"\n",
    "    results = requests.get(url).json()\n",
    "    bars_venues.append(results['response']['venues'])\n",
    "    bars_count.append(len(results['response']['venues']))"
   ]
  },
  {
   "cell_type": "code",
   "execution_count": 264,
   "metadata": {},
   "outputs": [
    {
     "name": "stdout",
     "output_type": "stream",
     "text": [
      "Dataframe Generation Complete\n"
     ]
    }
   ],
   "source": [
    "temp_ls = list(zip(lat_long_df['Postal Code'], lat_long_df['Latitude'], lat_long_df['Longitude'],coffee_shops_venues, coffee_shops_count, bars_venues, bars_count))\n",
    "venues_df = pd.DataFrame(temp_ls, columns = ['Postal Code', 'Latitude', 'Longitude', 'Coffee Shop Venues', 'Coffee Shop Count', 'Bars Venues','Bars Count'])\n",
    "print(\"Dataframe Generation Complete\")"
   ]
  },
  {
   "cell_type": "code",
   "execution_count": 269,
   "metadata": {},
   "outputs": [],
   "source": [
    "#Calculate the ratio of bars to coffee shops\n",
    "venues_df['Ratio'] = venues_df['Bars Count']/venues_df['Coffee Shop Count'] * 100"
   ]
  },
  {
   "cell_type": "code",
   "execution_count": 268,
   "metadata": {},
   "outputs": [
    {
     "data": {
      "text/html": [
       "<div>\n",
       "<style scoped>\n",
       "    .dataframe tbody tr th:only-of-type {\n",
       "        vertical-align: middle;\n",
       "    }\n",
       "\n",
       "    .dataframe tbody tr th {\n",
       "        vertical-align: top;\n",
       "    }\n",
       "\n",
       "    .dataframe thead th {\n",
       "        text-align: right;\n",
       "    }\n",
       "</style>\n",
       "<table border=\"1\" class=\"dataframe\">\n",
       "  <thead>\n",
       "    <tr style=\"text-align: right;\">\n",
       "      <th></th>\n",
       "      <th>Postal Code</th>\n",
       "      <th>Latitude</th>\n",
       "      <th>Longitude</th>\n",
       "      <th>Coffee Shop Venues</th>\n",
       "      <th>Coffee Shop Count</th>\n",
       "      <th>Bars Venues</th>\n",
       "      <th>Bars Count</th>\n",
       "      <th>Ratio</th>\n",
       "    </tr>\n",
       "  </thead>\n",
       "  <tbody>\n",
       "    <tr>\n",
       "      <th>16</th>\n",
       "      <td>M1X</td>\n",
       "      <td>43.836125</td>\n",
       "      <td>-79.205636</td>\n",
       "      <td>[]</td>\n",
       "      <td>0</td>\n",
       "      <td>[{'id': '4db5ac9d1e7248d135b982e6', 'name': 'G...</td>\n",
       "      <td>1</td>\n",
       "      <td>inf</td>\n",
       "    </tr>\n",
       "    <tr>\n",
       "      <th>6</th>\n",
       "      <td>M1K</td>\n",
       "      <td>43.727929</td>\n",
       "      <td>-79.262029</td>\n",
       "      <td>[{'id': '4f85761ee4b0388157a38e95', 'name': 'C...</td>\n",
       "      <td>1</td>\n",
       "      <td>[{'id': '4b7c9ea1f964a520219e2fe3', 'name': 'S...</td>\n",
       "      <td>24</td>\n",
       "      <td>2400.0</td>\n",
       "    </tr>\n",
       "    <tr>\n",
       "      <th>97</th>\n",
       "      <td>M9M</td>\n",
       "      <td>43.724766</td>\n",
       "      <td>-79.532242</td>\n",
       "      <td>[{'id': '4d1c614409546dcb117ad138', 'name': 'C...</td>\n",
       "      <td>1</td>\n",
       "      <td>[{'id': '4f80b6ece4b09a1477130e6d', 'name': 'W...</td>\n",
       "      <td>21</td>\n",
       "      <td>2100.0</td>\n",
       "    </tr>\n",
       "    <tr>\n",
       "      <th>62</th>\n",
       "      <td>M5M</td>\n",
       "      <td>43.733283</td>\n",
       "      <td>-79.419750</td>\n",
       "      <td>[{'id': '50a81655e4b0e7faf55ff531', 'name': 'W...</td>\n",
       "      <td>2</td>\n",
       "      <td>[{'id': '4d02475137caa1cd3c56e347', 'name': 'J...</td>\n",
       "      <td>30</td>\n",
       "      <td>1500.0</td>\n",
       "    </tr>\n",
       "    <tr>\n",
       "      <th>8</th>\n",
       "      <td>M1M</td>\n",
       "      <td>43.716316</td>\n",
       "      <td>-79.239476</td>\n",
       "      <td>[{'id': '4f85761ee4b0388157a38e95', 'name': 'C...</td>\n",
       "      <td>1</td>\n",
       "      <td>[{'id': '4e0a7b3a1f6e56a68103934a', 'name': 'A...</td>\n",
       "      <td>14</td>\n",
       "      <td>1400.0</td>\n",
       "    </tr>\n",
       "  </tbody>\n",
       "</table>\n",
       "</div>"
      ],
      "text/plain": [
       "   Postal Code   Latitude  Longitude  \\\n",
       "16         M1X  43.836125 -79.205636   \n",
       "6          M1K  43.727929 -79.262029   \n",
       "97         M9M  43.724766 -79.532242   \n",
       "62         M5M  43.733283 -79.419750   \n",
       "8          M1M  43.716316 -79.239476   \n",
       "\n",
       "                                   Coffee Shop Venues  Coffee Shop Count  \\\n",
       "16                                                 []                  0   \n",
       "6   [{'id': '4f85761ee4b0388157a38e95', 'name': 'C...                  1   \n",
       "97  [{'id': '4d1c614409546dcb117ad138', 'name': 'C...                  1   \n",
       "62  [{'id': '50a81655e4b0e7faf55ff531', 'name': 'W...                  2   \n",
       "8   [{'id': '4f85761ee4b0388157a38e95', 'name': 'C...                  1   \n",
       "\n",
       "                                          Bars Venues  Bars Count   Ratio  \n",
       "16  [{'id': '4db5ac9d1e7248d135b982e6', 'name': 'G...           1     inf  \n",
       "6   [{'id': '4b7c9ea1f964a520219e2fe3', 'name': 'S...          24  2400.0  \n",
       "97  [{'id': '4f80b6ece4b09a1477130e6d', 'name': 'W...          21  2100.0  \n",
       "62  [{'id': '4d02475137caa1cd3c56e347', 'name': 'J...          30  1500.0  \n",
       "8   [{'id': '4e0a7b3a1f6e56a68103934a', 'name': 'A...          14  1400.0  "
      ]
     },
     "execution_count": 268,
     "metadata": {},
     "output_type": "execute_result"
    }
   ],
   "source": [
    "#Find the postal code with highest ratio of bars to coffee shops\n",
    "venues_df.sort_values(by=['Ratio','Coffee Shop Count'], inplace=True, ascending=False)\n",
    "venues_df.head()"
   ]
  },
  {
   "cell_type": "markdown",
   "metadata": {},
   "source": [
    "## Part 3 - Visualize the Data Sets"
   ]
  },
  {
   "cell_type": "code",
   "execution_count": 324,
   "metadata": {},
   "outputs": [],
   "source": [
    "m1k_coffee_shops = venues_df.loc[6,'Coffee Shop Venues']\n",
    "m1k_coffee_shop_count = venues_df.loc[6,'Coffee Shop Count']\n",
    "m1k_bars = venues_df.loc[6,'Bars Venues']\n",
    "m1k_bars_count = venues_df.loc[6,'Bars Count']"
   ]
  },
  {
   "cell_type": "code",
   "execution_count": 334,
   "metadata": {},
   "outputs": [],
   "source": [
    "m9m_coffee_shops = venues_df.loc[97,'Coffee Shop Venues']\n",
    "m9m_coffee_shop_count = venues_df.loc[97,'Coffee Shop Count']\n",
    "m9m_bars = venues_df.loc[97,'Bars Venues']\n",
    "m9m_bars_count = venues_df.loc[97,'Bars Count']"
   ]
  },
  {
   "cell_type": "code",
   "execution_count": 341,
   "metadata": {},
   "outputs": [],
   "source": [
    "m1k_venues_map = folium.Map(location=[venues_df.loc[6,'Latitude'], venues_df.loc[6,'Longitude']], zoom_start=12)"
   ]
  },
  {
   "cell_type": "code",
   "execution_count": 330,
   "metadata": {},
   "outputs": [
    {
     "data": {
      "text/html": [
       "<div style=\"width:100%;\"><div style=\"position:relative;width:100%;height:0;padding-bottom:60%;\"><iframe src=\"about:blank\" style=\"position:absolute;width:100%;height:100%;left:0;top:0;border:none !important;\" data-html=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 onload=\"this.contentDocument.open();this.contentDocument.write(atob(this.getAttribute('data-html')));this.contentDocument.close();\" allowfullscreen webkitallowfullscreen mozallowfullscreen></iframe></div></div>"
      ],
      "text/plain": [
       "<folium.folium.Map at 0x1200564d0>"
      ]
     },
     "execution_count": 330,
     "metadata": {},
     "output_type": "execute_result"
    }
   ],
   "source": [
    "# add M1K Coffee Shops as Red Circles\n",
    "for i in range(0,m1k_coffee_shop_count):\n",
    "    #print(f\"Adding Coffee Shop {i}\")\n",
    "    location = m1k_coffee_shops[i].get('location')\n",
    "    latitude = location.get('lat')\n",
    "    longitude = location.get('lng')\n",
    "    folium.features.CircleMarker(\n",
    "        [latitude, longitude],\n",
    "        radius=10,\n",
    "        popup=m1k_coffee_shops[i].get('name'),\n",
    "        fill=True,\n",
    "        color='red',\n",
    "        fill_color='red',\n",
    "        fill_opacity=0.6\n",
    "        ).add_to(m1k_venues_map)\n",
    "m1k_venues_map"
   ]
  },
  {
   "cell_type": "code",
   "execution_count": 332,
   "metadata": {},
   "outputs": [
    {
     "data": {
      "text/html": [
       "<div style=\"width:100%;\"><div style=\"position:relative;width:100%;height:0;padding-bottom:60%;\"><iframe src=\"about:blank\" style=\"position:absolute;width:100%;height:100%;left:0;top:0;border:none !important;\" data-html=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 onload=\"this.contentDocument.open();this.contentDocument.write(atob(this.getAttribute('data-html')));this.contentDocument.close();\" allowfullscreen webkitallowfullscreen mozallowfullscreen></iframe></div></div>"
      ],
      "text/plain": [
       "<folium.folium.Map at 0x1200564d0>"
      ]
     },
     "execution_count": 332,
     "metadata": {},
     "output_type": "execute_result"
    }
   ],
   "source": [
    "# add M1K Bars as Blue Circles\n",
    "for i in range(0,m1k_bars_count):\n",
    "    #print(f\"Adding Bar {i}\")\n",
    "    location = m1k_bars[i].get('location')\n",
    "    latitude = location.get('lat')\n",
    "    longitude = location.get('lng')\n",
    "    folium.features.CircleMarker(\n",
    "        [latitude, longitude],\n",
    "        radius=10,\n",
    "        popup=m1k_bars[i].get('name'),\n",
    "        fill=True,\n",
    "        color='blue',\n",
    "        fill_color='blue',\n",
    "        fill_opacity=0.6\n",
    "        ).add_to(m1k_venues_map)   \n",
    "m1k_venues_map"
   ]
  },
  {
   "cell_type": "code",
   "execution_count": 320,
   "metadata": {},
   "outputs": [
    {
     "data": {
      "image/png": "[encoded data removed]",
      "text/plain": [
       "<Figure size 432x288 with 1 Axes>"
      ]
     },
     "metadata": {
      "needs_background": "light"
     },
     "output_type": "display_data"
    }
   ],
   "source": [
    "import matplotlib.pyplot as plt\n",
    "\n",
    "y_pos = np.arange(len(venues_df['Postal Code']))\n",
    "\n",
    "plt.bar(y_pos, venues_df['Ratio'], align='center', alpha=1)\n",
    "plt.xticks(y_pos, venues_df['Postal Code'])\n",
    "plt.ylabel('Bars/Coffee Shop (%)')\n",
    "plt.title('Bar to Coffee Shop Ratio in Toronto')\n",
    "\n",
    "plt.show()"
   ]
  },
  {
   "cell_type": "code",
   "execution_count": 342,
   "metadata": {},
   "outputs": [],
   "source": [
    "# generate map for M9m\n",
    "m9m_venues_map = folium.Map(location=[venues_df.loc[97,'Latitude'], venues_df.loc[97,'Longitude']], zoom_start=12)    "
   ]
  },
  {
   "cell_type": "code",
   "execution_count": 338,
   "metadata": {},
   "outputs": [
    {
     "data": {
      "text/html": [
       "<div style=\"width:100%;\"><div style=\"position:relative;width:100%;height:0;padding-bottom:60%;\"><iframe src=\"about:blank\" style=\"position:absolute;width:100%;height:100%;left:0;top:0;border:none !important;\" data-html=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 onload=\"this.contentDocument.open();this.contentDocument.write(atob(this.getAttribute('data-html')));this.contentDocument.close();\" allowfullscreen webkitallowfullscreen mozallowfullscreen></iframe></div></div>"
      ],
      "text/plain": [
       "<folium.folium.Map at 0x11eca80d0>"
      ]
     },
     "execution_count": 338,
     "metadata": {},
     "output_type": "execute_result"
    }
   ],
   "source": [
    "# add Coffee Shops as Red Circles\n",
    "for i in range(0,m9m_coffee_shop_count):\n",
    "    #print(f\"Adding Coffee Shop {i}\")\n",
    "    location = m9m_coffee_shops[i].get('location')\n",
    "    latitude = location.get('lat')\n",
    "    longitude = location.get('lng')\n",
    "    folium.features.CircleMarker(\n",
    "        [latitude, longitude],\n",
    "        radius=10,\n",
    "        popup=m9m_coffee_shops[i].get('name'),\n",
    "        fill=True,\n",
    "        color='red',\n",
    "        fill_color='red',\n",
    "        fill_opacity=0.6\n",
    "        ).add_to(m9m_venues_map)\n",
    "m9m_venues_map"
   ]
  },
  {
   "cell_type": "code",
   "execution_count": 339,
   "metadata": {},
   "outputs": [
    {
     "data": {
      "text/html": [
       "<div style=\"width:100%;\"><div style=\"position:relative;width:100%;height:0;padding-bottom:60%;\"><iframe src=\"about:blank\" style=\"position:absolute;width:100%;height:100%;left:0;top:0;border:none !important;\" data-html=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 onload=\"this.contentDocument.open();this.contentDocument.write(atob(this.getAttribute('data-html')));this.contentDocument.close();\" allowfullscreen webkitallowfullscreen mozallowfullscreen></iframe></div></div>"
      ],
      "text/plain": [
       "<folium.folium.Map at 0x11eca80d0>"
      ]
     },
     "execution_count": 339,
     "metadata": {},
     "output_type": "execute_result"
    }
   ],
   "source": [
    "# add Bars as Blue Circles\n",
    "for i in range(0,m9m_bars_count):\n",
    "    #print(f\"Adding Bar {i}\")\n",
    "    location = m9m_bars[i].get('location')\n",
    "    latitude = location.get('lat')\n",
    "    longitude = location.get('lng')\n",
    "    folium.features.CircleMarker(\n",
    "        [latitude, longitude],\n",
    "        radius=10,\n",
    "        popup=m9m_bars[i].get('name'),\n",
    "        fill=True,\n",
    "        color='blue',\n",
    "        fill_color='blue',\n",
    "        fill_opacity=0.6\n",
    "        ).add_to(m9m_venues_map)    \n",
    "m9m_venues_map"
   ]
  },
  {
   "cell_type": "markdown",
   "metadata": {},
   "source": [
    "## Part 4 - Check Coffee Shop Ratings for M1K"
   ]
  },
  {
   "cell_type": "code",
   "execution_count": 273,
   "metadata": {},
   "outputs": [
    {
     "data": {
      "text/html": [
       "<div>\n",
       "<style scoped>\n",
       "    .dataframe tbody tr th:only-of-type {\n",
       "        vertical-align: middle;\n",
       "    }\n",
       "\n",
       "    .dataframe tbody tr th {\n",
       "        vertical-align: top;\n",
       "    }\n",
       "\n",
       "    .dataframe thead th {\n",
       "        text-align: right;\n",
       "    }\n",
       "</style>\n",
       "<table border=\"1\" class=\"dataframe\">\n",
       "  <thead>\n",
       "    <tr style=\"text-align: right;\">\n",
       "      <th></th>\n",
       "      <th>id</th>\n",
       "      <th>name</th>\n",
       "      <th>location</th>\n",
       "      <th>categories</th>\n",
       "      <th>referralId</th>\n",
       "      <th>hasPerk</th>\n",
       "    </tr>\n",
       "  </thead>\n",
       "  <tbody>\n",
       "    <tr>\n",
       "      <th>0</th>\n",
       "      <td>4f85761ee4b0388157a38e95</td>\n",
       "      <td>Coffee Break</td>\n",
       "      <td>{'lat': 43.70406651209047, 'lng': -79.25227035...</td>\n",
       "      <td>[{'id': '4bf58dd8d48988d148941735', 'name': 'D...</td>\n",
       "      <td>v-1586077451</td>\n",
       "      <td>False</td>\n",
       "    </tr>\n",
       "  </tbody>\n",
       "</table>\n",
       "</div>"
      ],
      "text/plain": [
       "                         id          name  \\\n",
       "0  4f85761ee4b0388157a38e95  Coffee Break   \n",
       "\n",
       "                                            location  \\\n",
       "0  {'lat': 43.70406651209047, 'lng': -79.25227035...   \n",
       "\n",
       "                                          categories    referralId  hasPerk  \n",
       "0  [{'id': '4bf58dd8d48988d148941735', 'name': 'D...  v-1586077451    False  "
      ]
     },
     "execution_count": 273,
     "metadata": {},
     "output_type": "execute_result"
    }
   ],
   "source": [
    "postal_code_venue_df = pd.DataFrame(venues_df.loc[6,'Coffee Shop Venues'])\n",
    "postal_code_venue_df"
   ]
  },
  {
   "cell_type": "code",
   "execution_count": 274,
   "metadata": {},
   "outputs": [
    {
     "name": "stdout",
     "output_type": "stream",
     "text": [
      "4f85761ee4b0388157a38e95\n"
     ]
    },
    {
     "data": {
      "text/html": [
       "<div>\n",
       "<style scoped>\n",
       "    .dataframe tbody tr th:only-of-type {\n",
       "        vertical-align: middle;\n",
       "    }\n",
       "\n",
       "    .dataframe tbody tr th {\n",
       "        vertical-align: top;\n",
       "    }\n",
       "\n",
       "    .dataframe thead th {\n",
       "        text-align: right;\n",
       "    }\n",
       "</style>\n",
       "<table border=\"1\" class=\"dataframe\">\n",
       "  <thead>\n",
       "    <tr style=\"text-align: right;\">\n",
       "      <th></th>\n",
       "      <th>venue.id</th>\n",
       "      <th>venue.name</th>\n",
       "      <th>venue.location.lat</th>\n",
       "      <th>venue.location.lng</th>\n",
       "      <th>venue.location.labeledLatLngs</th>\n",
       "      <th>venue.location.cc</th>\n",
       "      <th>venue.location.country</th>\n",
       "      <th>venue.location.formattedAddress</th>\n",
       "      <th>venue.canonicalUrl</th>\n",
       "      <th>venue.categories</th>\n",
       "      <th>...</th>\n",
       "      <th>venue.shortUrl</th>\n",
       "      <th>venue.timeZone</th>\n",
       "      <th>venue.listed.count</th>\n",
       "      <th>venue.listed.groups</th>\n",
       "      <th>venue.seasonalHours</th>\n",
       "      <th>venue.pageUpdates.count</th>\n",
       "      <th>venue.pageUpdates.items</th>\n",
       "      <th>venue.inbox.count</th>\n",
       "      <th>venue.inbox.items</th>\n",
       "      <th>venue.attributes.groups</th>\n",
       "    </tr>\n",
       "  </thead>\n",
       "  <tbody>\n",
       "    <tr>\n",
       "      <th>0</th>\n",
       "      <td>4f85761ee4b0388157a38e95</td>\n",
       "      <td>Coffee Break</td>\n",
       "      <td>43.704067</td>\n",
       "      <td>-79.25227</td>\n",
       "      <td>[{'label': 'display', 'lat': 43.70406651209047...</td>\n",
       "      <td>CA</td>\n",
       "      <td>Canada</td>\n",
       "      <td>[Canada]</td>\n",
       "      <td>https://foursquare.com/v/coffee-break/4f85761e...</td>\n",
       "      <td>[{'id': '4bf58dd8d48988d148941735', 'name': 'D...</td>\n",
       "      <td>...</td>\n",
       "      <td>http://4sq.com/Isr42D</td>\n",
       "      <td>America/Toronto</td>\n",
       "      <td>0</td>\n",
       "      <td>[{'type': 'others', 'name': 'Lists from other ...</td>\n",
       "      <td>[]</td>\n",
       "      <td>0</td>\n",
       "      <td>[]</td>\n",
       "      <td>0</td>\n",
       "      <td>[]</td>\n",
       "      <td>[{'type': 'price', 'name': 'Price', 'summary':...</td>\n",
       "    </tr>\n",
       "  </tbody>\n",
       "</table>\n",
       "<p>1 rows × 46 columns</p>\n",
       "</div>"
      ],
      "text/plain": [
       "                   venue.id    venue.name  venue.location.lat  \\\n",
       "0  4f85761ee4b0388157a38e95  Coffee Break           43.704067   \n",
       "\n",
       "   venue.location.lng                      venue.location.labeledLatLngs  \\\n",
       "0           -79.25227  [{'label': 'display', 'lat': 43.70406651209047...   \n",
       "\n",
       "  venue.location.cc venue.location.country venue.location.formattedAddress  \\\n",
       "0                CA                 Canada                        [Canada]   \n",
       "\n",
       "                                  venue.canonicalUrl  \\\n",
       "0  https://foursquare.com/v/coffee-break/4f85761e...   \n",
       "\n",
       "                                    venue.categories  ...  \\\n",
       "0  [{'id': '4bf58dd8d48988d148941735', 'name': 'D...  ...   \n",
       "\n",
       "          venue.shortUrl   venue.timeZone  venue.listed.count  \\\n",
       "0  http://4sq.com/Isr42D  America/Toronto                   0   \n",
       "\n",
       "                                 venue.listed.groups venue.seasonalHours  \\\n",
       "0  [{'type': 'others', 'name': 'Lists from other ...                  []   \n",
       "\n",
       "   venue.pageUpdates.count venue.pageUpdates.items  venue.inbox.count  \\\n",
       "0                        0                      []                  0   \n",
       "\n",
       "   venue.inbox.items                            venue.attributes.groups  \n",
       "0                 []  [{'type': 'price', 'name': 'Price', 'summary':...  \n",
       "\n",
       "[1 rows x 46 columns]"
      ]
     },
     "execution_count": 274,
     "metadata": {},
     "output_type": "execute_result"
    }
   ],
   "source": [
    "venue_id = postal_code_venue_df.iloc[0]['id']\n",
    "url = f\"https://api.foursquare.com/v2/venues/{venue_id}?client_id={CLIENT_ID}&client_secret={CLIENT_SECRET}&v={VERSION}\"\n",
    "results = requests.get(url).json()\n",
    "venue_details = results['response']\n",
    "venue_details_df = pd.json_normalize(venue_details)\n",
    "venue_details_df"
   ]
  },
  {
   "cell_type": "code",
   "execution_count": 275,
   "metadata": {},
   "outputs": [
    {
     "data": {
      "text/plain": [
       "Index(['venue.id', 'venue.name', 'venue.location.lat', 'venue.location.lng',\n",
       "       'venue.location.labeledLatLngs', 'venue.location.cc',\n",
       "       'venue.location.country', 'venue.location.formattedAddress',\n",
       "       'venue.canonicalUrl', 'venue.categories', 'venue.verified',\n",
       "       'venue.stats.tipCount', 'venue.price.tier', 'venue.price.message',\n",
       "       'venue.price.currency', 'venue.likes.count', 'venue.likes.groups',\n",
       "       'venue.dislike', 'venue.ok', 'venue.allowMenuUrlEdit',\n",
       "       'venue.beenHere.count', 'venue.beenHere.unconfirmedCount',\n",
       "       'venue.beenHere.marked', 'venue.beenHere.lastCheckinExpiredAt',\n",
       "       'venue.specials.count', 'venue.specials.items', 'venue.photos.count',\n",
       "       'venue.photos.groups', 'venue.reasons.count', 'venue.reasons.items',\n",
       "       'venue.hereNow.count', 'venue.hereNow.summary', 'venue.hereNow.groups',\n",
       "       'venue.createdAt', 'venue.tips.count', 'venue.tips.groups',\n",
       "       'venue.shortUrl', 'venue.timeZone', 'venue.listed.count',\n",
       "       'venue.listed.groups', 'venue.seasonalHours', 'venue.pageUpdates.count',\n",
       "       'venue.pageUpdates.items', 'venue.inbox.count', 'venue.inbox.items',\n",
       "       'venue.attributes.groups'],\n",
       "      dtype='object')"
      ]
     },
     "execution_count": 275,
     "metadata": {},
     "output_type": "execute_result"
    }
   ],
   "source": [
    "venue_details_df.columns"
   ]
  },
  {
   "cell_type": "markdown",
   "metadata": {},
   "source": [
    "## Part 5 - Check Coffee Shop Ratings for M9M"
   ]
  },
  {
   "cell_type": "code",
   "execution_count": 276,
   "metadata": {},
   "outputs": [
    {
     "data": {
      "text/html": [
       "<div>\n",
       "<style scoped>\n",
       "    .dataframe tbody tr th:only-of-type {\n",
       "        vertical-align: middle;\n",
       "    }\n",
       "\n",
       "    .dataframe tbody tr th {\n",
       "        vertical-align: top;\n",
       "    }\n",
       "\n",
       "    .dataframe thead th {\n",
       "        text-align: right;\n",
       "    }\n",
       "</style>\n",
       "<table border=\"1\" class=\"dataframe\">\n",
       "  <thead>\n",
       "    <tr style=\"text-align: right;\">\n",
       "      <th></th>\n",
       "      <th>id</th>\n",
       "      <th>name</th>\n",
       "      <th>location</th>\n",
       "      <th>categories</th>\n",
       "      <th>referralId</th>\n",
       "      <th>hasPerk</th>\n",
       "    </tr>\n",
       "  </thead>\n",
       "  <tbody>\n",
       "    <tr>\n",
       "      <th>0</th>\n",
       "      <td>4d1c614409546dcb117ad138</td>\n",
       "      <td>Coffee time</td>\n",
       "      <td>{'crossStreet': 'Jane st', 'lat': 43.721045063...</td>\n",
       "      <td>[]</td>\n",
       "      <td>v-1586078007</td>\n",
       "      <td>False</td>\n",
       "    </tr>\n",
       "  </tbody>\n",
       "</table>\n",
       "</div>"
      ],
      "text/plain": [
       "                         id         name  \\\n",
       "0  4d1c614409546dcb117ad138  Coffee time   \n",
       "\n",
       "                                            location categories    referralId  \\\n",
       "0  {'crossStreet': 'Jane st', 'lat': 43.721045063...         []  v-1586078007   \n",
       "\n",
       "   hasPerk  \n",
       "0    False  "
      ]
     },
     "execution_count": 276,
     "metadata": {},
     "output_type": "execute_result"
    }
   ],
   "source": [
    "postal_code_venue_2_df = pd.DataFrame(venues_df.loc[97,'Coffee Shop Venues'])\n",
    "postal_code_venue_2_df"
   ]
  },
  {
   "cell_type": "code",
   "execution_count": 278,
   "metadata": {},
   "outputs": [
    {
     "data": {
      "text/html": [
       "<div>\n",
       "<style scoped>\n",
       "    .dataframe tbody tr th:only-of-type {\n",
       "        vertical-align: middle;\n",
       "    }\n",
       "\n",
       "    .dataframe tbody tr th {\n",
       "        vertical-align: top;\n",
       "    }\n",
       "\n",
       "    .dataframe thead th {\n",
       "        text-align: right;\n",
       "    }\n",
       "</style>\n",
       "<table border=\"1\" class=\"dataframe\">\n",
       "  <thead>\n",
       "    <tr style=\"text-align: right;\">\n",
       "      <th></th>\n",
       "      <th>venue.id</th>\n",
       "      <th>venue.name</th>\n",
       "      <th>venue.location.crossStreet</th>\n",
       "      <th>venue.location.lat</th>\n",
       "      <th>venue.location.lng</th>\n",
       "      <th>venue.location.labeledLatLngs</th>\n",
       "      <th>venue.location.cc</th>\n",
       "      <th>venue.location.city</th>\n",
       "      <th>venue.location.state</th>\n",
       "      <th>venue.location.country</th>\n",
       "      <th>...</th>\n",
       "      <th>venue.shortUrl</th>\n",
       "      <th>venue.timeZone</th>\n",
       "      <th>venue.listed.count</th>\n",
       "      <th>venue.listed.groups</th>\n",
       "      <th>venue.seasonalHours</th>\n",
       "      <th>venue.pageUpdates.count</th>\n",
       "      <th>venue.pageUpdates.items</th>\n",
       "      <th>venue.inbox.count</th>\n",
       "      <th>venue.inbox.items</th>\n",
       "      <th>venue.attributes.groups</th>\n",
       "    </tr>\n",
       "  </thead>\n",
       "  <tbody>\n",
       "    <tr>\n",
       "      <th>0</th>\n",
       "      <td>4d1c614409546dcb117ad138</td>\n",
       "      <td>Coffee time</td>\n",
       "      <td>Jane st</td>\n",
       "      <td>43.721045</td>\n",
       "      <td>-79.508923</td>\n",
       "      <td>[{'label': 'display', 'lat': 43.72104506370656...</td>\n",
       "      <td>CA</td>\n",
       "      <td>Toronto</td>\n",
       "      <td>ON</td>\n",
       "      <td>Canada</td>\n",
       "      <td>...</td>\n",
       "      <td>http://4sq.com/hJARHT</td>\n",
       "      <td>America/Toronto</td>\n",
       "      <td>0</td>\n",
       "      <td>[{'type': 'others', 'name': 'Lists from other ...</td>\n",
       "      <td>[]</td>\n",
       "      <td>0</td>\n",
       "      <td>[]</td>\n",
       "      <td>0</td>\n",
       "      <td>[]</td>\n",
       "      <td>[]</td>\n",
       "    </tr>\n",
       "  </tbody>\n",
       "</table>\n",
       "<p>1 rows × 46 columns</p>\n",
       "</div>"
      ],
      "text/plain": [
       "                   venue.id   venue.name venue.location.crossStreet  \\\n",
       "0  4d1c614409546dcb117ad138  Coffee time                    Jane st   \n",
       "\n",
       "   venue.location.lat  venue.location.lng  \\\n",
       "0           43.721045          -79.508923   \n",
       "\n",
       "                       venue.location.labeledLatLngs venue.location.cc  \\\n",
       "0  [{'label': 'display', 'lat': 43.72104506370656...                CA   \n",
       "\n",
       "  venue.location.city venue.location.state venue.location.country  ...  \\\n",
       "0             Toronto                   ON                 Canada  ...   \n",
       "\n",
       "          venue.shortUrl   venue.timeZone venue.listed.count  \\\n",
       "0  http://4sq.com/hJARHT  America/Toronto                  0   \n",
       "\n",
       "                                 venue.listed.groups  venue.seasonalHours  \\\n",
       "0  [{'type': 'others', 'name': 'Lists from other ...                   []   \n",
       "\n",
       "   venue.pageUpdates.count venue.pageUpdates.items venue.inbox.count  \\\n",
       "0                        0                      []                 0   \n",
       "\n",
       "   venue.inbox.items  venue.attributes.groups  \n",
       "0                 []                       []  \n",
       "\n",
       "[1 rows x 46 columns]"
      ]
     },
     "execution_count": 278,
     "metadata": {},
     "output_type": "execute_result"
    }
   ],
   "source": [
    "venue_id_2 = postal_code_venue_2_df.iloc[0]['id']\n",
    "url = f\"https://api.foursquare.com/v2/venues/{venue_id_2}?client_id={CLIENT_ID}&client_secret={CLIENT_SECRET}&v={VERSION}\"\n",
    "results_2 = requests.get(url).json()\n",
    "venue_details_2 = results_2['response']\n",
    "venue_details_2_df = pd.json_normalize(venue_details_2)\n",
    "venue_details_2_df"
   ]
  },
  {
   "cell_type": "code",
   "execution_count": 279,
   "metadata": {},
   "outputs": [
    {
     "data": {
      "text/plain": [
       "Index(['venue.id', 'venue.name', 'venue.location.lat', 'venue.location.lng',\n",
       "       'venue.location.labeledLatLngs', 'venue.location.cc',\n",
       "       'venue.location.country', 'venue.location.formattedAddress',\n",
       "       'venue.canonicalUrl', 'venue.categories', 'venue.verified',\n",
       "       'venue.stats.tipCount', 'venue.price.tier', 'venue.price.message',\n",
       "       'venue.price.currency', 'venue.likes.count', 'venue.likes.groups',\n",
       "       'venue.dislike', 'venue.ok', 'venue.allowMenuUrlEdit',\n",
       "       'venue.beenHere.count', 'venue.beenHere.unconfirmedCount',\n",
       "       'venue.beenHere.marked', 'venue.beenHere.lastCheckinExpiredAt',\n",
       "       'venue.specials.count', 'venue.specials.items', 'venue.photos.count',\n",
       "       'venue.photos.groups', 'venue.reasons.count', 'venue.reasons.items',\n",
       "       'venue.hereNow.count', 'venue.hereNow.summary', 'venue.hereNow.groups',\n",
       "       'venue.createdAt', 'venue.tips.count', 'venue.tips.groups',\n",
       "       'venue.shortUrl', 'venue.timeZone', 'venue.listed.count',\n",
       "       'venue.listed.groups', 'venue.seasonalHours', 'venue.pageUpdates.count',\n",
       "       'venue.pageUpdates.items', 'venue.inbox.count', 'venue.inbox.items',\n",
       "       'venue.attributes.groups'],\n",
       "      dtype='object')"
      ]
     },
     "execution_count": 279,
     "metadata": {},
     "output_type": "execute_result"
    }
   ],
   "source": [
    "venue_details_df.columns"
   ]
  }
 ],
 "metadata": {
  "kernelspec": {
   "display_name": "Python 3",
   "language": "python",
   "name": "python3"
  },
  "language_info": {
   "codemirror_mode": {
    "name": "ipython",
    "version": 3
   },
   "file_extension": ".py",
   "mimetype": "text/x-python",
   "name": "python",
   "nbconvert_exporter": "python",
   "pygments_lexer": "ipython3",
   "version": "3.7.6"
  }
 },
 "nbformat": 4,
 "nbformat_minor": 4
}
